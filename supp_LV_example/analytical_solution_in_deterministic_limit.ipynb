{
 "cells": [
  {
   "cell_type": "markdown",
   "metadata": {},
   "source": [
    "Author: Shikhara Bhat\n",
    "\n",
    "Email: shikharabhat@gmail.com\n",
    "\n",
    "Date created: 2023-08-17 17:50:05\n",
    "\n",
    "Purpose: Symbolically find the fixed points of the ODE that corresponds to the infinite population limit of the resource competition\n",
    "example (stochastic Lotka-Volterra type) of noise-induced selection introduced in Bhat and Guttal 2023\n"
   ]
  },
  {
   "cell_type": "code",
   "execution_count": 6,
   "metadata": {},
   "outputs": [],
   "source": [
    "import sympy\n",
    "from sympy import *\n",
    "from sympy import Symbol\n",
    "from sympy import init_printing\n",
    "init_printing(use_latex='mathjax')"
   ]
  },
  {
   "cell_type": "code",
   "execution_count": 7,
   "metadata": {},
   "outputs": [],
   "source": [
    "#define the relevant symbols\n",
    "\n",
    "eps = Symbol('epsilon',real=True)\n",
    "mu = Symbol('mu',positive=True)\n",
    "p = Symbol('p',positive=True)"
   ]
  },
  {
   "cell_type": "markdown",
   "metadata": {},
   "source": [
    "From the main text, the deterministic limit of our example obeys the ODE\n",
    "\n",
    "$$\n",
    "\\frac{dp}{dt} = - \\epsilon N_K p(1-p)^2 + \\mu(1-2p)\n",
    "$$\n",
    "\n",
    "Under the approximation $N_K \\approxeq 1$, the fixed points of this system are thus found by solving the cubic\n",
    "\n",
    "$$\n",
    "-\\epsilon p^3+2\\epsilon p^2-(\\epsilon+2\\mu)p+\\mu = 0\n",
    "$$"
   ]
  },
  {
   "cell_type": "code",
   "execution_count": 8,
   "metadata": {},
   "outputs": [
    {
     "data": {
      "text/latex": [
       "$\\displaystyle - \\epsilon p^{3} + 2 \\epsilon p^{2} + \\mu - p \\left(\\epsilon + 2 \\mu\\right) = 0$"
      ],
      "text/plain": [
       "     3        2                      \n",
       "- ε⋅p  + 2⋅ε⋅p  + μ - p⋅(ε + 2⋅μ) = 0"
      ]
     },
     "execution_count": 8,
     "metadata": {},
     "output_type": "execute_result"
    }
   ],
   "source": [
    "#Declare the equation in sympy\n",
    "Eq = Eq((-eps*(p**3)+2*eps*(p**2)-(eps+2*mu)*p+mu),0)\n",
    "\n",
    "Eq"
   ]
  },
  {
   "cell_type": "code",
   "execution_count": 14,
   "metadata": {},
   "outputs": [
    {
     "data": {
      "text/latex": [
       "$\\displaystyle \\mathbb{R} \\cap \\left\\{- \\frac{4 - \\frac{3 \\left(\\epsilon + 2 \\mu\\right)}{\\epsilon}}{3 \\sqrt[3]{\\frac{\\sqrt{- 4 \\left(4 - \\frac{3 \\left(\\epsilon + 2 \\mu\\right)}{\\epsilon}\\right)^{3} + \\left(-16 - \\frac{27 \\mu}{\\epsilon} + \\frac{18 \\left(\\epsilon + 2 \\mu\\right)}{\\epsilon}\\right)^{2}}}{2} - 8 - \\frac{27 \\mu}{2 \\epsilon} + \\frac{9 \\left(\\epsilon + 2 \\mu\\right)}{\\epsilon}}} - \\frac{\\sqrt[3]{\\frac{\\sqrt{- 4 \\left(4 - \\frac{3 \\left(\\epsilon + 2 \\mu\\right)}{\\epsilon}\\right)^{3} + \\left(-16 - \\frac{27 \\mu}{\\epsilon} + \\frac{18 \\left(\\epsilon + 2 \\mu\\right)}{\\epsilon}\\right)^{2}}}{2} - 8 - \\frac{27 \\mu}{2 \\epsilon} + \\frac{9 \\left(\\epsilon + 2 \\mu\\right)}{\\epsilon}}}{3} + \\frac{2}{3}, - \\frac{4 - \\frac{3 \\left(\\epsilon + 2 \\mu\\right)}{\\epsilon}}{3 \\left(- \\frac{1}{2} - \\frac{\\sqrt{3} i}{2}\\right) \\sqrt[3]{\\frac{\\sqrt{- 4 \\left(4 - \\frac{3 \\left(\\epsilon + 2 \\mu\\right)}{\\epsilon}\\right)^{3} + \\left(-16 - \\frac{27 \\mu}{\\epsilon} + \\frac{18 \\left(\\epsilon + 2 \\mu\\right)}{\\epsilon}\\right)^{2}}}{2} - 8 - \\frac{27 \\mu}{2 \\epsilon} + \\frac{9 \\left(\\epsilon + 2 \\mu\\right)}{\\epsilon}}} - \\frac{\\left(- \\frac{1}{2} - \\frac{\\sqrt{3} i}{2}\\right) \\sqrt[3]{\\frac{\\sqrt{- 4 \\left(4 - \\frac{3 \\left(\\epsilon + 2 \\mu\\right)}{\\epsilon}\\right)^{3} + \\left(-16 - \\frac{27 \\mu}{\\epsilon} + \\frac{18 \\left(\\epsilon + 2 \\mu\\right)}{\\epsilon}\\right)^{2}}}{2} - 8 - \\frac{27 \\mu}{2 \\epsilon} + \\frac{9 \\left(\\epsilon + 2 \\mu\\right)}{\\epsilon}}}{3} + \\frac{2}{3}, - \\frac{4 - \\frac{3 \\left(\\epsilon + 2 \\mu\\right)}{\\epsilon}}{3 \\left(- \\frac{1}{2} + \\frac{\\sqrt{3} i}{2}\\right) \\sqrt[3]{\\frac{\\sqrt{- 4 \\left(4 - \\frac{3 \\left(\\epsilon + 2 \\mu\\right)}{\\epsilon}\\right)^{3} + \\left(-16 - \\frac{27 \\mu}{\\epsilon} + \\frac{18 \\left(\\epsilon + 2 \\mu\\right)}{\\epsilon}\\right)^{2}}}{2} - 8 - \\frac{27 \\mu}{2 \\epsilon} + \\frac{9 \\left(\\epsilon + 2 \\mu\\right)}{\\epsilon}}} - \\frac{\\left(- \\frac{1}{2} + \\frac{\\sqrt{3} i}{2}\\right) \\sqrt[3]{\\frac{\\sqrt{- 4 \\left(4 - \\frac{3 \\left(\\epsilon + 2 \\mu\\right)}{\\epsilon}\\right)^{3} + \\left(-16 - \\frac{27 \\mu}{\\epsilon} + \\frac{18 \\left(\\epsilon + 2 \\mu\\right)}{\\epsilon}\\right)^{2}}}{2} - 8 - \\frac{27 \\mu}{2 \\epsilon} + \\frac{9 \\left(\\epsilon + 2 \\mu\\right)}{\\epsilon}}}{3} + \\frac{2}{3}\\right\\}$"
      ],
      "text/plain": [
       "    ⎧                                                                         \n",
       "    ⎪                                                                         \n",
       "    ⎪                                                                         \n",
       "    ⎪                                                                         \n",
       "    ⎪                                                                         \n",
       "    ⎪                                               3⋅(ε + 2⋅μ)               \n",
       "    ⎪                                           4 - ───────────               \n",
       "    ⎪                                                    ε                    \n",
       "ℝ ∩ ⎨- ───────────────────────────────────────────────────────────────────────\n",
       "    ⎪            _____________________________________________________________\n",
       "    ⎪           ╱      _______________________________________________________\n",
       "    ⎪          ╱      ╱                      3                              2 \n",
       "    ⎪         ╱      ╱      ⎛    3⋅(ε + 2⋅μ)⎞    ⎛      27⋅μ   18⋅(ε + 2⋅μ)⎞  \n",
       "    ⎪        ╱      ╱   - 4⋅⎜4 - ───────────⎟  + ⎜-16 - ──── + ────────────⎟  \n",
       "    ⎪       ╱     ╲╱        ⎝         ε     ⎠    ⎝       ε          ε      ⎠  \n",
       "    ⎪  3⋅3 ╱      ────────────────────────────────────────────────────────────\n",
       "    ⎩    ╲╱                                    2                              \n",
       "\n",
       "                                     _________________________________________\n",
       "                                    ╱      ___________________________________\n",
       "                                   ╱      ╱                      3            \n",
       "                                  ╱      ╱      ⎛    3⋅(ε + 2⋅μ)⎞    ⎛      27\n",
       "                                 ╱      ╱   - 4⋅⎜4 - ───────────⎟  + ⎜-16 - ──\n",
       "                                ╱     ╲╱        ⎝         ε     ⎠    ⎝       ε\n",
       "                             3 ╱      ────────────────────────────────────────\n",
       "                             ╲╱                                    2          \n",
       "────────────────────────── - ─────────────────────────────────────────────────\n",
       "__________________________                                                  3 \n",
       "                                                                              \n",
       "                                                                              \n",
       "                                                                              \n",
       "                                                                              \n",
       "       27⋅μ   9⋅(ε + 2⋅μ)                                                     \n",
       " - 8 - ──── + ───────────                                                     \n",
       "       2⋅ε         ε                                                          \n",
       "\n",
       "______________________________________________                                \n",
       "____________________                                                          \n",
       "                  2                                                           \n",
       "⋅μ   18⋅(ε + 2⋅μ)⎞                                                            \n",
       "── + ────────────⎟                                                            \n",
       "          ε      ⎠         27⋅μ   9⋅(ε + 2⋅μ)                                 \n",
       "──────────────────── - 8 - ──── + ───────────                                 \n",
       "                           2⋅ε         ε         2                            \n",
       "────────────────────────────────────────────── + ─, - ────────────────────────\n",
       "                                                 3                           _\n",
       "                                                                            ╱ \n",
       "                                                                           ╱  \n",
       "                                                                          ╱   \n",
       "                                                                         ╱    \n",
       "                                                        ⎛  1   √3⋅ⅈ⎞    ╱     \n",
       "                                                      3⋅⎜- ─ - ────⎟⋅3 ╱      \n",
       "                                                        ⎝  2    2  ⎠ ╲╱       \n",
       "\n",
       "                                                                              \n",
       "                                                                              \n",
       "                                                                              \n",
       "                                                                              \n",
       "                                                                              \n",
       "                           3⋅(ε + 2⋅μ)                                        \n",
       "                       4 - ───────────                                        \n",
       "                                ε                                             \n",
       "──────────────────────────────────────────────────────────────────────────────\n",
       "______________________________________________________________________________\n",
       "     _______________________________________________________                  \n",
       "    ╱                      3                              2                   \n",
       "   ╱      ⎛    3⋅(ε + 2⋅μ)⎞    ⎛      27⋅μ   18⋅(ε + 2⋅μ)⎞                    \n",
       "  ╱   - 4⋅⎜4 - ───────────⎟  + ⎜-16 - ──── + ────────────⎟                    \n",
       "╲╱        ⎝         ε     ⎠    ⎝       ε          ε      ⎠         27⋅μ   9⋅(ε\n",
       "──────────────────────────────────────────────────────────── - 8 - ──── + ────\n",
       "                             2                                     2⋅ε        \n",
       "\n",
       "                                ______________________________________________\n",
       "                               ╱      ________________________________________\n",
       "                              ╱      ╱                      3                 \n",
       "                             ╱      ╱      ⎛    3⋅(ε + 2⋅μ)⎞    ⎛      27⋅μ   \n",
       "                            ╱      ╱   - 4⋅⎜4 - ───────────⎟  + ⎜-16 - ──── + \n",
       "           ⎛  1   √3⋅ⅈ⎞    ╱     ╲╱        ⎝         ε     ⎠    ⎝       ε     \n",
       "           ⎜- ─ - ────⎟⋅3 ╱      ─────────────────────────────────────────────\n",
       "           ⎝  2    2  ⎠ ╲╱                                    2               \n",
       "──────── - ───────────────────────────────────────────────────────────────────\n",
       "________                                                        3             \n",
       "                                                                              \n",
       "                                                                              \n",
       "                                                                              \n",
       "                                                                              \n",
       " + 2⋅μ)                                                                       \n",
       "───────                                                                       \n",
       " ε                                                                            \n",
       "\n",
       "_________________________________________                                     \n",
       "_______________                                                               \n",
       "             2                                                                \n",
       "18⋅(ε + 2⋅μ)⎞                                                                 \n",
       "────────────⎟                                                                 \n",
       "     ε      ⎠         27⋅μ   9⋅(ε + 2⋅μ)                                      \n",
       "─────────────── - 8 - ──── + ───────────                                      \n",
       "                      2⋅ε         ε         2                                 \n",
       "───────────────────────────────────────── + ─, - ─────────────────────────────\n",
       "                                            3                           ______\n",
       "                                                                       ╱      \n",
       "                                                                      ╱      ╱\n",
       "                                                                     ╱      ╱ \n",
       "                                                                    ╱      ╱  \n",
       "                                                   ⎛  1   √3⋅ⅈ⎞    ╱     ╲╱   \n",
       "                                                 3⋅⎜- ─ + ────⎟⋅3 ╱      ─────\n",
       "                                                   ⎝  2    2  ⎠ ╲╱            \n",
       "\n",
       "                                                                              \n",
       "                                                                              \n",
       "                                                                              \n",
       "                                                                              \n",
       "                                                                              \n",
       "                      3⋅(ε + 2⋅μ)                                             \n",
       "                  4 - ───────────                                             \n",
       "                           ε                                                  \n",
       "──────────────────────────────────────────────────────────────────────────────\n",
       "______________________________________________________________________________\n",
       "_______________________________________________________                       \n",
       "                      3                              2                        \n",
       "     ⎛    3⋅(ε + 2⋅μ)⎞    ⎛      27⋅μ   18⋅(ε + 2⋅μ)⎞                         \n",
       " - 4⋅⎜4 - ───────────⎟  + ⎜-16 - ──── + ────────────⎟                         \n",
       "     ⎝         ε     ⎠    ⎝       ε          ε      ⎠         27⋅μ   9⋅(ε + 2⋅\n",
       "─────────────────────────────────────────────────────── - 8 - ──── + ─────────\n",
       "                        2                                     2⋅ε         ε   \n",
       "\n",
       "                           ___________________________________________________\n",
       "                          ╱      _____________________________________________\n",
       "                         ╱      ╱                      3                      \n",
       "                        ╱      ╱      ⎛    3⋅(ε + 2⋅μ)⎞    ⎛      27⋅μ   18⋅(ε\n",
       "                       ╱      ╱   - 4⋅⎜4 - ───────────⎟  + ⎜-16 - ──── + ─────\n",
       "      ⎛  1   √3⋅ⅈ⎞    ╱     ╲╱        ⎝         ε     ⎠    ⎝       ε          \n",
       "      ⎜- ─ + ────⎟⋅3 ╱      ──────────────────────────────────────────────────\n",
       "      ⎝  2    2  ⎠ ╲╱                                    2                    \n",
       "─── - ────────────────────────────────────────────────────────────────────────\n",
       "___                                                        3                  \n",
       "                                                                              \n",
       "                                                                              \n",
       "                                                                              \n",
       "                                                                              \n",
       "μ)                                                                            \n",
       "──                                                                            \n",
       "                                                                              \n",
       "\n",
       "____________________________________    ⎫\n",
       "__________                              ⎪\n",
       "        2                               ⎪\n",
       " + 2⋅μ)⎞                                ⎪\n",
       "───────⎟                                ⎪\n",
       "ε      ⎠         27⋅μ   9⋅(ε + 2⋅μ)     ⎪\n",
       "────────── - 8 - ──── + ───────────     ⎪\n",
       "                 2⋅ε         ε         2⎪\n",
       "──────────────────────────────────── + ─⎬\n",
       "                                       3⎪\n",
       "                                        ⎪\n",
       "                                        ⎪\n",
       "                                        ⎪\n",
       "                                        ⎪\n",
       "                                        ⎪\n",
       "                                        ⎪\n",
       "                                        ⎭"
      ]
     },
     "execution_count": 14,
     "metadata": {},
     "output_type": "execute_result"
    }
   ],
   "source": [
    "#find the roots\n",
    "solns = solveset(Eq,p,domain=S.Reals)\n",
    "\n",
    "solns"
   ]
  },
  {
   "cell_type": "code",
   "execution_count": 33,
   "metadata": {},
   "outputs": [
    {
     "name": "stdout",
     "output_type": "stream",
     "text": [
      "solution for eps = 0.005, mu = 0.001 is  0.18912081520889007\n",
      "solution for eps = 0.0005, mu = 0.001 is  0.4668231650690814\n"
     ]
    }
   ],
   "source": [
    "soln_func = lambdify([eps,mu] , next(iter(solns.args[1])), \"numpy\")\n",
    "\n",
    "#solution for epsilon and mu values\n",
    "print(\"solution for eps = 0.005, mu = 0.001 is \",soln_func(0.005, 0.001))\n",
    "print(\"solution for eps = 0.0005, mu = 0.001 is \",soln_func(0.0005, 0.001))"
   ]
  }
 ],
 "metadata": {
  "kernelspec": {
   "display_name": "Python 3",
   "language": "python",
   "name": "python3"
  },
  "language_info": {
   "codemirror_mode": {
    "name": "ipython",
    "version": 3
   },
   "file_extension": ".py",
   "mimetype": "text/x-python",
   "name": "python",
   "nbconvert_exporter": "python",
   "pygments_lexer": "ipython3",
   "version": "3.11.4"
  },
  "orig_nbformat": 4
 },
 "nbformat": 4,
 "nbformat_minor": 2
}
